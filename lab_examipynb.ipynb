{
  "nbformat": 4,
  "nbformat_minor": 0,
  "metadata": {
    "colab": {
      "provenance": [],
      "authorship_tag": "ABX9TyNkOKojf85pjCLPhq1SVYEG",
      "include_colab_link": true
    },
    "kernelspec": {
      "name": "python3",
      "display_name": "Python 3"
    },
    "language_info": {
      "name": "python"
    }
  },
  "cells": [
    {
      "cell_type": "markdown",
      "metadata": {
        "id": "view-in-github",
        "colab_type": "text"
      },
      "source": [
        "<a href=\"https://colab.research.google.com/github/2303A52464/AIML-2303A52464/blob/main/lab_examipynb.ipynb\" target=\"_parent\"><img src=\"https://colab.research.google.com/assets/colab-badge.svg\" alt=\"Open In Colab\"/></a>"
      ]
    },
    {
      "cell_type": "markdown",
      "source": [
        "#**HT.No : 2303A52464**\n",
        "#**Batch : 36**\n",
        "#**Question No : 28**"
      ],
      "metadata": {
        "id": "EKZnaOkwKfhI"
      }
    },
    {
      "cell_type": "markdown",
      "source": [
        "#**Question :**\n",
        "#**Prediction of Guitar Chords and finger positions in Song composition**\n",
        "1. Identify the top 5 chords most played\n",
        "2. Predict the finger positions used most in chords\n",
        "3. Top 5 string movements for song composition\n",
        "4. Name the chord condition most suitable for middle and pinkie\n",
        "5. Identify the chord with combination of middle, index and ring fingers"
      ],
      "metadata": {
        "id": "XV-5aDfeKWUq"
      }
    },
    {
      "cell_type": "markdown",
      "source": [
        "#**Load the Dataset**"
      ],
      "metadata": {
        "id": "dO2SCGC0LhUm"
      }
    },
    {
      "cell_type": "code",
      "execution_count": null,
      "metadata": {
        "colab": {
          "base_uri": "https://localhost:8080/"
        },
        "id": "5G41n65NIEcq",
        "outputId": "36ba70a8-35dd-447d-9d53-04683c55cfb7"
      },
      "outputs": [
        {
          "output_type": "stream",
          "name": "stdout",
          "text": [
            "  CHORD_ROOT CHORD_TYPE   CHORD_STRUCTURE FINGER_POSITIONS        NOTE_NAMES\n",
            "0         A#         13  1;3;5;b7;9;11;13      x,1,0,2,3,4  A#,C##,G#,B#,F##\n",
            "1         A#         13  1;3;5;b7;9;11;13      4,x,3,2,1,1  A#,G#,B#,C##,F##\n",
            "2         A#         13  1;3;5;b7;9;11;13      1,x,1,2,3,4  A#,G#,C##,F##,B#\n",
            "3         A#      7(#9)       1;3;5;b7;#9      x,1,0,2,4,3  A#,C##,G#,B##,E#\n",
            "4         A#      7(#9)       1;3;5;b7;#9      2,1,3,3,3,x  A#,C##,G#,B##,E#\n"
          ]
        }
      ],
      "source": [
        "import pandas as pd\n",
        "from collections import Counter\n",
        "\n",
        "\n",
        "file_path = '/content/chord-fingers.csv'\n",
        "chord_data = pd.read_csv(file_path, delimiter=';', quotechar='\"')\n",
        "\n",
        "\n",
        "print(chord_data.head())\n"
      ]
    },
    {
      "cell_type": "markdown",
      "source": [
        "#**Count the occurrences of each chord and identify the top 5**"
      ],
      "metadata": {
        "id": "8jqFckdCLtOF"
      }
    },
    {
      "cell_type": "code",
      "source": [
        "top_chords = chord_data['CHORD_ROOT'].value_counts().head(5)\n",
        "\n",
        "print(\"Top 5 chords most played:\")\n",
        "print(top_chords)\n"
      ],
      "metadata": {
        "colab": {
          "base_uri": "https://localhost:8080/"
        },
        "id": "ZJ5o53VcIhdU",
        "outputId": "928d43ec-a42a-40b5-f31f-f98dcc263946"
      },
      "execution_count": null,
      "outputs": [
        {
          "output_type": "stream",
          "name": "stdout",
          "text": [
            "Top 5 chords most played:\n",
            "CHORD_ROOT\n",
            "A    233\n",
            "C    226\n",
            "G    224\n",
            "D    223\n",
            "E    220\n",
            "Name: count, dtype: int64\n"
          ]
        }
      ]
    },
    {
      "cell_type": "markdown",
      "source": [
        "#**Flatten and count finger positions across all chords**"
      ],
      "metadata": {
        "id": "FpJOxH39MBPQ"
      }
    },
    {
      "cell_type": "code",
      "source": [
        "finger_positions = chord_data['FINGER_POSITIONS'].str.split(',')\n",
        "all_positions = [pos.strip() for sublist in finger_positions for pos in sublist]\n",
        "most_common_positions = Counter(all_positions).most_common()\n",
        "\n",
        "print(\"Most commonly used finger positions:\")\n",
        "print(most_common_positions)\n"
      ],
      "metadata": {
        "colab": {
          "base_uri": "https://localhost:8080/"
        },
        "id": "ESwCq8flIn47",
        "outputId": "da3eaea5-3fd0-48ec-8eca-ef573ecf7598"
      },
      "execution_count": null,
      "outputs": [
        {
          "output_type": "stream",
          "name": "stdout",
          "text": [
            "Most commonly used finger positions:\n",
            "[('x', 4477), ('1', 4246), ('3', 2513), ('2', 2008), ('4', 1678), ('0', 870)]\n"
          ]
        }
      ]
    },
    {
      "cell_type": "markdown",
      "source": [
        "#**Analyze string movements by examining note names**"
      ],
      "metadata": {
        "id": "3nw96irrMPwe"
      }
    },
    {
      "cell_type": "code",
      "source": [
        "\n",
        "note_movements = chord_data['NOTE_NAMES'].str.split(',')\n",
        "flat_notes = [note.strip() for sublist in note_movements for note in sublist]\n",
        "top_movements = Counter(flat_notes).most_common(5)\n",
        "\n",
        "print(\"Top 5 string movements for song composition:\")\n",
        "print(top_movements)\n"
      ],
      "metadata": {
        "colab": {
          "base_uri": "https://localhost:8080/"
        },
        "id": "FUhjGGaIIqzp",
        "outputId": "47079360-f012-4b3e-b26e-df00d317da5d"
      },
      "execution_count": null,
      "outputs": [
        {
          "output_type": "stream",
          "name": "stdout",
          "text": [
            "Top 5 string movements for song composition:\n",
            "[('E', 1015), ('A', 909), ('G', 879), ('D', 856), ('B', 840)]\n"
          ]
        }
      ]
    },
    {
      "cell_type": "markdown",
      "source": [
        "#**Filter chords where positions include 2 (middle) and 4 (pinkie)**"
      ],
      "metadata": {
        "id": "jvcAkC9qMZ8V"
      }
    },
    {
      "cell_type": "code",
      "source": [
        "\n",
        "middle_pinkie_chords = chord_data[chord_data['FINGER_POSITIONS'].str.contains('2') &\n",
        "                                  chord_data['FINGER_POSITIONS'].str.contains('4')]\n",
        "\n",
        "print(\"Chords suitable for middle and pinkie fingers:\")\n",
        "print(middle_pinkie_chords[['CHORD_ROOT', 'CHORD_TYPE']])\n"
      ],
      "metadata": {
        "colab": {
          "base_uri": "https://localhost:8080/"
        },
        "id": "FIsB6c8ZIvue",
        "outputId": "815a77f1-80e3-4495-9b12-14a9554c8f76"
      },
      "execution_count": null,
      "outputs": [
        {
          "output_type": "stream",
          "name": "stdout",
          "text": [
            "Chords suitable for middle and pinkie fingers:\n",
            "     CHORD_ROOT CHORD_TYPE\n",
            "0            A#         13\n",
            "1            A#         13\n",
            "2            A#         13\n",
            "3            A#      7(#9)\n",
            "5            A#      7(#9)\n",
            "...         ...        ...\n",
            "2623          G     13(b9)\n",
            "2627          G       sus4\n",
            "2629          G        6/9\n",
            "2630          G        6/9\n",
            "2631          G        6/9\n",
            "\n",
            "[1283 rows x 2 columns]\n"
          ]
        }
      ]
    },
    {
      "cell_type": "markdown",
      "source": [
        "#**Filter chords using 2 (middle), 1 (index), and 3 (ring) fingers**"
      ],
      "metadata": {
        "id": "39rzlNOtMlHc"
      }
    },
    {
      "cell_type": "code",
      "source": [
        "\n",
        "target_chords = chord_data[chord_data['FINGER_POSITIONS'].str.contains('2') &\n",
        "                           chord_data['FINGER_POSITIONS'].str.contains('1') &\n",
        "                           chord_data['FINGER_POSITIONS'].str.contains('3')]\n",
        "\n",
        "print(\"Chords with middle, index, and ring fingers:\")\n",
        "print(target_chords[['CHORD_ROOT', 'CHORD_TYPE']])\n"
      ],
      "metadata": {
        "colab": {
          "base_uri": "https://localhost:8080/"
        },
        "id": "hMwsJCMaIx_U",
        "outputId": "223f514d-0196-4203-8dc4-5c4311397acc"
      },
      "execution_count": null,
      "outputs": [
        {
          "output_type": "stream",
          "name": "stdout",
          "text": [
            "Chords with middle, index, and ring fingers:\n",
            "     CHORD_ROOT CHORD_TYPE\n",
            "0            A#         13\n",
            "1            A#         13\n",
            "2            A#         13\n",
            "3            A#      7(#9)\n",
            "4            A#      7(#9)\n",
            "...         ...        ...\n",
            "2623          G     13(b9)\n",
            "2627          G       sus4\n",
            "2629          G        6/9\n",
            "2630          G        6/9\n",
            "2631          G        6/9\n",
            "\n",
            "[1629 rows x 2 columns]\n"
          ]
        }
      ]
    }
  ]
}